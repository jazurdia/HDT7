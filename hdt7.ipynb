{
 "cells": [
  {
   "cell_type": "markdown",
   "metadata": {},
   "source": [
    "## 1. Optimización de Hiperparámetros:\n",
    "**Cambie el número de observaciones a 100,000. Este no es un hiperparámetro pero puede afectar el rendimiento del modelo. ¿Qué ocurre?**\n",
    "\n",
    "El primer cambio significativo que se observa es que el modelo se tarda muchísimo mas en ejecutarse y en lograr hacer una predicción. Con 100,000, en una de las computadoras en las que se estaba probando el modelo nunca compiló. \n",
    "\n",
    "\n",
    "**Experimente con diferentes valores para la tasa de aprendizaje. Los valores como 0.0001, 0.001, 0.1, 1 son interesantes para observar. Prueba también cambiando el número de épocas (50, 100, 200). ¿Qué diferencias se observan? ¿Se comporta bien el algoritmo?**\n",
    "\n",
    "Al cambiar la tasa de aprendizaje, se pudo observar que el tiempo que le toma al script para ejecutarse es mayor. El número de elementos que se plotean parece aumentar tambiíen, haciendo mas \"gruesas\" las rectas formadas en las gráficas. Ambas gráficas siguen exhibiendo el comportamiento esperado. Se puede observar también un cambio radical en los valores predecidos, sin embargo parece que globalmente no se encuentran cambios. Al realizar cambios a las épocas, como es de esperarse, el modelo se tardaba mucho más entre mayor era el valor de las épocas. Esto es el comportamiento esperado, ya que son las iteraciones de entrenamiento que tiene el modelo. \n",
    "\n",
    "\n",
    "**Cambie la función de pérdida. ¿Cómo se comparan los resultados al cambiar la función de pérdida? Una función alternativa es la “Huber Loss”**\n",
    "\n",
    "El resultado en este caso no parece cambiar al implementar Huber Loss en vez de la función que se estaba usando \"mean squared error\". \n",
    "\n",
    "**Evalúe cómo estos cambios afectan la precisión y la pérdida del modelo.**\n",
    "\n",
    "Estos cambios no parecen afectar los resultados (presición) del modelo. La pérdida evidentemente cambiará, puesto que se está usando otra función para obtenerla. El único cambio sustancial es el tiempo que le toma al script desarrollado ejecutarse. Sobre todo al aumentar las épocas, al aumentar los datos de entrada o al bajar la tasa de aprendizaje. "
   ]
  },
  {
   "cell_type": "markdown",
   "metadata": {},
   "source": [
    "## 3. Interpretación de Resultados:\n",
    "\n",
    "**2. Sugiera posibles mejoras basadas en sus observaciones.**\n",
    "\n",
    "Es importante, para el análisis de los resultados y para mejorar la calidad de las observaciones realizadas contar con un ambiente igual de ejecución. Observamos que el rendimiento del modelo se veía directamente afectado por la computadora en la que se estaba ejecutando. \n",
    "\n",
    "Tensorflow puede ser dockerizado, presentando una solución a los problemas de rendimiento asociados con los diferentes ambientes de ejecución. Por otro lado, observamos que no es tan importante los datos de entrada, en vez de eso, encontrar una buena tasa de aprendizaje. "
   ]
  }
 ],
 "metadata": {
  "language_info": {
   "name": "python"
  }
 },
 "nbformat": 4,
 "nbformat_minor": 2
}
